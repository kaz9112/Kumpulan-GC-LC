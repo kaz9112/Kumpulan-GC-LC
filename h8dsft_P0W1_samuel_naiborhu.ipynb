{
  "cells": [
    {
      "cell_type": "raw",
      "metadata": {},
      "source": [
        "-- Query from BigQuery\n",
        "\n",
        "SELECT * \n",
        "FROM `bigquery-public-data.covid19_jhu_csse_eu.summary`\n",
        "WHERE country_region = 'Sweden' AND date = '2022-08-03'\n",
        "OR country_region = 'Belgium' AND date = '2022-08-03'\n",
        "OR country_region = 'Poland' AND date = '2022-08-03'\n",
        "OR country_region = 'Estonia' AND date = '2022-08-03'\n",
        "OR country_region = 'Ireland' AND date = '2022-08-03'\n",
        "OR country_region = 'Portugal' AND date = '2022-08-03'\n",
        "OR country_region = 'Luxembourg' AND date = '2022-08-03'\n",
        "OR country_region = 'Switzerland' AND date = '2022-08-03'\n",
        "OR country_region = 'Austria' AND date = '2022-08-03'\n",
        "OR country_region = 'Netherlands' AND date = '2022-08-03'\n",
        "OR country_region = 'Finland' AND date = '2022-08-03'\n",
        "OR country_region = 'Denmark' AND date = '2022-08-03'\n",
        "OR country_region = 'Norway' AND date = '2022-08-03'\n",
        "OR country_region = 'Germany' AND date = '2022-08-03'\n",
        "OR country_region = 'United Kingdom' AND date = '2022-08-03'\n",
        "OR country_region = 'France' AND date = '2022-08-03'\n",
        "OR country_region = 'Spain' AND date = '2022-08-03'\n",
        "OR country_region = 'Italy'AND date = '2022-08-03';"
      ]
    },
    {
      "cell_type": "markdown",
      "metadata": {
        "id": "TnJ5DnFVE-OG"
      },
      "source": [
        "**Using this template**\n",
        "\n",
        "1. Change notebook title to assignment title you working on, eg. `Graded Challenge 1 or Milestone 1`\n",
        "2. Put your identity such as name and batch number below notebook title.\n",
        "3. Write your description before do any work. State your purpose of this assignment and what you are trying to achieve. \n",
        "4. Look at the rubric of this assignment and make sure you understand the criteria.\n",
        "5. Code your solution in the cell provided below the working area section.\n",
        "6. State your conlusions, findings, and any other relevant information in the cell provided below the conclusions sections.\n",
        "7. Save this notebook and rename it to assignment title you working on  eg. `Graded Challenge 1 or Milestone 1`\n",
        "8. Push your assignment before deadline.\n",
        "9. Good Luck!"
      ]
    },
    {
      "cell_type": "markdown",
      "metadata": {
        "id": "zEcynaY4E-OM"
      },
      "source": [
        "# Notebook Title\n",
        "\n",
        "`Put your identity below`"
      ]
    },
    {
      "cell_type": "markdown",
      "metadata": {
        "id": "YUvI_xQHFLOx"
      },
      "source": [
        "Samuel Kristianto Pardomuan Naiborhu"
      ]
    },
    {
      "cell_type": "markdown",
      "metadata": {},
      "source": [
        "## Introduction"
      ]
    },
    {
      "cell_type": "markdown",
      "metadata": {
        "id": "aY_3ZTByE-ON"
      },
      "source": [
        "## Description\n",
        "\n",
        "### Objective\n",
        "\n",
        "To find out the effectiveness of the Swedish government in lowering the risk of fatality from covid 19, compared to other developed european countries.\n",
        "\n",
        "### Problem Statement\n",
        "\n",
        "Sweden's unique response to the COVID-19 pandemic has been the subject of significant controversy in both domestic and international circles. Unlike most countries, which strongly recommended or introduced widespread sector closures, quarantining, and lockdown measures to curb the spread of the coronavirus disease 2019, the government of Sweden took a more lenient approach to the pandemic, prioritizing the economy and only pursuing social distancing measures such as bans on large gatherings and limited travel restrictions."
      ]
    },
    {
      "cell_type": "markdown",
      "metadata": {
        "id": "nUXc25hKE-OO"
      },
      "source": [
        "## Working Area\n",
        "\n",
        "```txt\n",
        "Put your code, analysis, everything below this line\n",
        "\n",
        "Make sure to check everything the rubric requires before you submit\n",
        "```"
      ]
    },
    {
      "cell_type": "markdown",
      "metadata": {},
      "source": [
        "## Importing relevant libraries"
      ]
    },
    {
      "cell_type": "code",
      "execution_count": 1,
      "metadata": {
        "id": "DkSstQLGE-OP"
      },
      "outputs": [],
      "source": [
        "import numpy as np\n",
        "import pandas as pd"
      ]
    },
    {
      "cell_type": "markdown",
      "metadata": {},
      "source": [
        "## Loading raw data"
      ]
    },
    {
      "cell_type": "code",
      "execution_count": 2,
      "metadata": {
        "id": "19kDwAmcE-OP"
      },
      "outputs": [],
      "source": [
        "\n",
        "data_raw = pd.read_csv('h8dsft_P0GC1_SAMUEL_NAIBORHU.csv')"
      ]
    },
    {
      "cell_type": "markdown",
      "metadata": {},
      "source": [
        "## Preprocessing / data cleaning"
      ]
    },
    {
      "cell_type": "code",
      "execution_count": 3,
      "metadata": {},
      "outputs": [],
      "source": [
        "# pd.set_option('display.max_rows', None) # uncomment to see all the rows from the data\n",
        "# pd.reset_option(\"all\") # uncomment to reset option"
      ]
    },
    {
      "cell_type": "markdown",
      "metadata": {},
      "source": [
        "Show the first 5 data\n"
      ]
    },
    {
      "cell_type": "code",
      "execution_count": 4,
      "metadata": {
        "id": "bgpAqvdjE-OQ"
      },
      "outputs": [
        {
          "data": {
            "text/html": [
              "<div>\n",
              "<style scoped>\n",
              "    .dataframe tbody tr th:only-of-type {\n",
              "        vertical-align: middle;\n",
              "    }\n",
              "\n",
              "    .dataframe tbody tr th {\n",
              "        vertical-align: top;\n",
              "    }\n",
              "\n",
              "    .dataframe thead th {\n",
              "        text-align: right;\n",
              "    }\n",
              "</style>\n",
              "<table border=\"1\" class=\"dataframe\">\n",
              "  <thead>\n",
              "    <tr style=\"text-align: right;\">\n",
              "      <th></th>\n",
              "      <th>province_state</th>\n",
              "      <th>country_region</th>\n",
              "      <th>date</th>\n",
              "      <th>latitude</th>\n",
              "      <th>longitude</th>\n",
              "      <th>location_geom</th>\n",
              "      <th>confirmed</th>\n",
              "      <th>deaths</th>\n",
              "      <th>recovered</th>\n",
              "      <th>active</th>\n",
              "      <th>fips</th>\n",
              "      <th>admin2</th>\n",
              "      <th>combined_key</th>\n",
              "    </tr>\n",
              "  </thead>\n",
              "  <tbody>\n",
              "    <tr>\n",
              "      <th>0</th>\n",
              "      <td>NaN</td>\n",
              "      <td>Austria</td>\n",
              "      <td>2022-08-03</td>\n",
              "      <td>47.5162</td>\n",
              "      <td>14.5501</td>\n",
              "      <td>POINT(14.5501 47.5162)</td>\n",
              "      <td>4807205</td>\n",
              "      <td>20390</td>\n",
              "      <td>NaN</td>\n",
              "      <td>NaN</td>\n",
              "      <td>NaN</td>\n",
              "      <td>NaN</td>\n",
              "      <td>Austria</td>\n",
              "    </tr>\n",
              "    <tr>\n",
              "      <th>1</th>\n",
              "      <td>Antwerp</td>\n",
              "      <td>Belgium</td>\n",
              "      <td>2022-08-03</td>\n",
              "      <td>51.2195</td>\n",
              "      <td>4.4024</td>\n",
              "      <td>POINT(4.4024 51.2195)</td>\n",
              "      <td>711225</td>\n",
              "      <td>0</td>\n",
              "      <td>NaN</td>\n",
              "      <td>NaN</td>\n",
              "      <td>NaN</td>\n",
              "      <td>NaN</td>\n",
              "      <td>Antwerp, Belgium</td>\n",
              "    </tr>\n",
              "    <tr>\n",
              "      <th>2</th>\n",
              "      <td>Brussels</td>\n",
              "      <td>Belgium</td>\n",
              "      <td>2022-08-03</td>\n",
              "      <td>50.8503</td>\n",
              "      <td>4.3517</td>\n",
              "      <td>POINT(4.3517 50.8503)</td>\n",
              "      <td>480952</td>\n",
              "      <td>0</td>\n",
              "      <td>NaN</td>\n",
              "      <td>NaN</td>\n",
              "      <td>NaN</td>\n",
              "      <td>NaN</td>\n",
              "      <td>Brussels, Belgium</td>\n",
              "    </tr>\n",
              "    <tr>\n",
              "      <th>3</th>\n",
              "      <td>East Flanders</td>\n",
              "      <td>Belgium</td>\n",
              "      <td>2022-08-03</td>\n",
              "      <td>51.0362</td>\n",
              "      <td>3.7373</td>\n",
              "      <td>POINT(3.7373 51.0362)</td>\n",
              "      <td>598498</td>\n",
              "      <td>0</td>\n",
              "      <td>NaN</td>\n",
              "      <td>NaN</td>\n",
              "      <td>NaN</td>\n",
              "      <td>NaN</td>\n",
              "      <td>East Flanders, Belgium</td>\n",
              "    </tr>\n",
              "    <tr>\n",
              "      <th>4</th>\n",
              "      <td>Flemish Brabant</td>\n",
              "      <td>Belgium</td>\n",
              "      <td>2022-08-03</td>\n",
              "      <td>50.9167</td>\n",
              "      <td>4.5833</td>\n",
              "      <td>POINT(4.5833 50.9167)</td>\n",
              "      <td>432232</td>\n",
              "      <td>0</td>\n",
              "      <td>NaN</td>\n",
              "      <td>NaN</td>\n",
              "      <td>NaN</td>\n",
              "      <td>NaN</td>\n",
              "      <td>Flemish Brabant, Belgium</td>\n",
              "    </tr>\n",
              "  </tbody>\n",
              "</table>\n",
              "</div>"
            ],
            "text/plain": [
              "    province_state country_region        date  latitude  longitude  \\\n",
              "0              NaN        Austria  2022-08-03   47.5162    14.5501   \n",
              "1          Antwerp        Belgium  2022-08-03   51.2195     4.4024   \n",
              "2         Brussels        Belgium  2022-08-03   50.8503     4.3517   \n",
              "3    East Flanders        Belgium  2022-08-03   51.0362     3.7373   \n",
              "4  Flemish Brabant        Belgium  2022-08-03   50.9167     4.5833   \n",
              "\n",
              "            location_geom  confirmed  deaths  recovered  active  fips  admin2  \\\n",
              "0  POINT(14.5501 47.5162)    4807205   20390        NaN     NaN   NaN     NaN   \n",
              "1   POINT(4.4024 51.2195)     711225       0        NaN     NaN   NaN     NaN   \n",
              "2   POINT(4.3517 50.8503)     480952       0        NaN     NaN   NaN     NaN   \n",
              "3   POINT(3.7373 51.0362)     598498       0        NaN     NaN   NaN     NaN   \n",
              "4   POINT(4.5833 50.9167)     432232       0        NaN     NaN   NaN     NaN   \n",
              "\n",
              "               combined_key  \n",
              "0                   Austria  \n",
              "1          Antwerp, Belgium  \n",
              "2         Brussels, Belgium  \n",
              "3    East Flanders, Belgium  \n",
              "4  Flemish Brabant, Belgium  "
            ]
          },
          "execution_count": 4,
          "metadata": {},
          "output_type": "execute_result"
        }
      ],
      "source": [
        "data_raw.head()"
      ]
    },
    {
      "cell_type": "markdown",
      "metadata": {},
      "source": [
        "Show the last 5 data"
      ]
    },
    {
      "cell_type": "code",
      "execution_count": 5,
      "metadata": {},
      "outputs": [
        {
          "data": {
            "text/html": [
              "<div>\n",
              "<style scoped>\n",
              "    .dataframe tbody tr th:only-of-type {\n",
              "        vertical-align: middle;\n",
              "    }\n",
              "\n",
              "    .dataframe tbody tr th {\n",
              "        vertical-align: top;\n",
              "    }\n",
              "\n",
              "    .dataframe thead th {\n",
              "        text-align: right;\n",
              "    }\n",
              "</style>\n",
              "<table border=\"1\" class=\"dataframe\">\n",
              "  <thead>\n",
              "    <tr style=\"text-align: right;\">\n",
              "      <th></th>\n",
              "      <th>province_state</th>\n",
              "      <th>country_region</th>\n",
              "      <th>date</th>\n",
              "      <th>latitude</th>\n",
              "      <th>longitude</th>\n",
              "      <th>location_geom</th>\n",
              "      <th>confirmed</th>\n",
              "      <th>deaths</th>\n",
              "      <th>recovered</th>\n",
              "      <th>active</th>\n",
              "      <th>fips</th>\n",
              "      <th>admin2</th>\n",
              "      <th>combined_key</th>\n",
              "    </tr>\n",
              "  </thead>\n",
              "  <tbody>\n",
              "    <tr>\n",
              "      <th>145</th>\n",
              "      <td>Saint Helena, Ascension and Tristan da Cunha</td>\n",
              "      <td>United Kingdom</td>\n",
              "      <td>2022-08-03</td>\n",
              "      <td>-7.9467</td>\n",
              "      <td>-14.3559</td>\n",
              "      <td>POINT(-14.3559 -7.9467)</td>\n",
              "      <td>4</td>\n",
              "      <td>0</td>\n",
              "      <td>NaN</td>\n",
              "      <td>NaN</td>\n",
              "      <td>NaN</td>\n",
              "      <td>NaN</td>\n",
              "      <td>Saint Helena, Ascension and Tristan da Cunha, ...</td>\n",
              "    </tr>\n",
              "    <tr>\n",
              "      <th>146</th>\n",
              "      <td>Scotland</td>\n",
              "      <td>United Kingdom</td>\n",
              "      <td>2022-08-03</td>\n",
              "      <td>56.4907</td>\n",
              "      <td>-4.2026</td>\n",
              "      <td>POINT(-4.2026 56.4907)</td>\n",
              "      <td>2074217</td>\n",
              "      <td>12389</td>\n",
              "      <td>NaN</td>\n",
              "      <td>NaN</td>\n",
              "      <td>NaN</td>\n",
              "      <td>NaN</td>\n",
              "      <td>Scotland, United Kingdom</td>\n",
              "    </tr>\n",
              "    <tr>\n",
              "      <th>147</th>\n",
              "      <td>Turks and Caicos Islands</td>\n",
              "      <td>United Kingdom</td>\n",
              "      <td>2022-08-03</td>\n",
              "      <td>21.6940</td>\n",
              "      <td>-71.7979</td>\n",
              "      <td>POINT(-71.7979 21.694)</td>\n",
              "      <td>6328</td>\n",
              "      <td>36</td>\n",
              "      <td>NaN</td>\n",
              "      <td>NaN</td>\n",
              "      <td>NaN</td>\n",
              "      <td>NaN</td>\n",
              "      <td>Turks and Caicos Islands, United Kingdom</td>\n",
              "    </tr>\n",
              "    <tr>\n",
              "      <th>148</th>\n",
              "      <td>Unknown</td>\n",
              "      <td>United Kingdom</td>\n",
              "      <td>2022-08-03</td>\n",
              "      <td>NaN</td>\n",
              "      <td>NaN</td>\n",
              "      <td>NaN</td>\n",
              "      <td>0</td>\n",
              "      <td>0</td>\n",
              "      <td>NaN</td>\n",
              "      <td>NaN</td>\n",
              "      <td>NaN</td>\n",
              "      <td>NaN</td>\n",
              "      <td>Unknown, United Kingdom</td>\n",
              "    </tr>\n",
              "    <tr>\n",
              "      <th>149</th>\n",
              "      <td>Wales</td>\n",
              "      <td>United Kingdom</td>\n",
              "      <td>2022-08-03</td>\n",
              "      <td>52.1307</td>\n",
              "      <td>-3.7837</td>\n",
              "      <td>POINT(-3.7837 52.1307)</td>\n",
              "      <td>882004</td>\n",
              "      <td>7658</td>\n",
              "      <td>NaN</td>\n",
              "      <td>NaN</td>\n",
              "      <td>NaN</td>\n",
              "      <td>NaN</td>\n",
              "      <td>Wales, United Kingdom</td>\n",
              "    </tr>\n",
              "  </tbody>\n",
              "</table>\n",
              "</div>"
            ],
            "text/plain": [
              "                                   province_state  country_region        date  \\\n",
              "145  Saint Helena, Ascension and Tristan da Cunha  United Kingdom  2022-08-03   \n",
              "146                                      Scotland  United Kingdom  2022-08-03   \n",
              "147                      Turks and Caicos Islands  United Kingdom  2022-08-03   \n",
              "148                                       Unknown  United Kingdom  2022-08-03   \n",
              "149                                         Wales  United Kingdom  2022-08-03   \n",
              "\n",
              "     latitude  longitude            location_geom  confirmed  deaths  \\\n",
              "145   -7.9467   -14.3559  POINT(-14.3559 -7.9467)          4       0   \n",
              "146   56.4907    -4.2026   POINT(-4.2026 56.4907)    2074217   12389   \n",
              "147   21.6940   -71.7979   POINT(-71.7979 21.694)       6328      36   \n",
              "148       NaN        NaN                      NaN          0       0   \n",
              "149   52.1307    -3.7837   POINT(-3.7837 52.1307)     882004    7658   \n",
              "\n",
              "     recovered  active  fips  admin2  \\\n",
              "145        NaN     NaN   NaN     NaN   \n",
              "146        NaN     NaN   NaN     NaN   \n",
              "147        NaN     NaN   NaN     NaN   \n",
              "148        NaN     NaN   NaN     NaN   \n",
              "149        NaN     NaN   NaN     NaN   \n",
              "\n",
              "                                          combined_key  \n",
              "145  Saint Helena, Ascension and Tristan da Cunha, ...  \n",
              "146                           Scotland, United Kingdom  \n",
              "147           Turks and Caicos Islands, United Kingdom  \n",
              "148                            Unknown, United Kingdom  \n",
              "149                              Wales, United Kingdom  "
            ]
          },
          "execution_count": 5,
          "metadata": {},
          "output_type": "execute_result"
        }
      ],
      "source": [
        "data_raw.tail()"
      ]
    },
    {
      "cell_type": "markdown",
      "metadata": {},
      "source": [
        "Summarize current data"
      ]
    },
    {
      "cell_type": "code",
      "execution_count": 6,
      "metadata": {},
      "outputs": [
        {
          "data": {
            "text/html": [
              "<div>\n",
              "<style scoped>\n",
              "    .dataframe tbody tr th:only-of-type {\n",
              "        vertical-align: middle;\n",
              "    }\n",
              "\n",
              "    .dataframe tbody tr th {\n",
              "        vertical-align: top;\n",
              "    }\n",
              "\n",
              "    .dataframe thead th {\n",
              "        text-align: right;\n",
              "    }\n",
              "</style>\n",
              "<table border=\"1\" class=\"dataframe\">\n",
              "  <thead>\n",
              "    <tr style=\"text-align: right;\">\n",
              "      <th></th>\n",
              "      <th>province_state</th>\n",
              "      <th>country_region</th>\n",
              "      <th>date</th>\n",
              "      <th>latitude</th>\n",
              "      <th>longitude</th>\n",
              "      <th>location_geom</th>\n",
              "      <th>confirmed</th>\n",
              "      <th>deaths</th>\n",
              "      <th>recovered</th>\n",
              "      <th>active</th>\n",
              "      <th>fips</th>\n",
              "      <th>admin2</th>\n",
              "      <th>combined_key</th>\n",
              "    </tr>\n",
              "  </thead>\n",
              "  <tbody>\n",
              "    <tr>\n",
              "      <th>0</th>\n",
              "      <td>NaN</td>\n",
              "      <td>Austria</td>\n",
              "      <td>2022-08-03</td>\n",
              "      <td>47.5162</td>\n",
              "      <td>14.5501</td>\n",
              "      <td>POINT(14.5501 47.5162)</td>\n",
              "      <td>4807205</td>\n",
              "      <td>20390</td>\n",
              "      <td>NaN</td>\n",
              "      <td>NaN</td>\n",
              "      <td>NaN</td>\n",
              "      <td>NaN</td>\n",
              "      <td>Austria</td>\n",
              "    </tr>\n",
              "    <tr>\n",
              "      <th>1</th>\n",
              "      <td>Antwerp</td>\n",
              "      <td>Belgium</td>\n",
              "      <td>2022-08-03</td>\n",
              "      <td>51.2195</td>\n",
              "      <td>4.4024</td>\n",
              "      <td>POINT(4.4024 51.2195)</td>\n",
              "      <td>711225</td>\n",
              "      <td>0</td>\n",
              "      <td>NaN</td>\n",
              "      <td>NaN</td>\n",
              "      <td>NaN</td>\n",
              "      <td>NaN</td>\n",
              "      <td>Antwerp, Belgium</td>\n",
              "    </tr>\n",
              "    <tr>\n",
              "      <th>2</th>\n",
              "      <td>Brussels</td>\n",
              "      <td>Belgium</td>\n",
              "      <td>2022-08-03</td>\n",
              "      <td>50.8503</td>\n",
              "      <td>4.3517</td>\n",
              "      <td>POINT(4.3517 50.8503)</td>\n",
              "      <td>480952</td>\n",
              "      <td>0</td>\n",
              "      <td>NaN</td>\n",
              "      <td>NaN</td>\n",
              "      <td>NaN</td>\n",
              "      <td>NaN</td>\n",
              "      <td>Brussels, Belgium</td>\n",
              "    </tr>\n",
              "    <tr>\n",
              "      <th>3</th>\n",
              "      <td>East Flanders</td>\n",
              "      <td>Belgium</td>\n",
              "      <td>2022-08-03</td>\n",
              "      <td>51.0362</td>\n",
              "      <td>3.7373</td>\n",
              "      <td>POINT(3.7373 51.0362)</td>\n",
              "      <td>598498</td>\n",
              "      <td>0</td>\n",
              "      <td>NaN</td>\n",
              "      <td>NaN</td>\n",
              "      <td>NaN</td>\n",
              "      <td>NaN</td>\n",
              "      <td>East Flanders, Belgium</td>\n",
              "    </tr>\n",
              "    <tr>\n",
              "      <th>4</th>\n",
              "      <td>Flemish Brabant</td>\n",
              "      <td>Belgium</td>\n",
              "      <td>2022-08-03</td>\n",
              "      <td>50.9167</td>\n",
              "      <td>4.5833</td>\n",
              "      <td>POINT(4.5833 50.9167)</td>\n",
              "      <td>432232</td>\n",
              "      <td>0</td>\n",
              "      <td>NaN</td>\n",
              "      <td>NaN</td>\n",
              "      <td>NaN</td>\n",
              "      <td>NaN</td>\n",
              "      <td>Flemish Brabant, Belgium</td>\n",
              "    </tr>\n",
              "    <tr>\n",
              "      <th>...</th>\n",
              "      <td>...</td>\n",
              "      <td>...</td>\n",
              "      <td>...</td>\n",
              "      <td>...</td>\n",
              "      <td>...</td>\n",
              "      <td>...</td>\n",
              "      <td>...</td>\n",
              "      <td>...</td>\n",
              "      <td>...</td>\n",
              "      <td>...</td>\n",
              "      <td>...</td>\n",
              "      <td>...</td>\n",
              "      <td>...</td>\n",
              "    </tr>\n",
              "    <tr>\n",
              "      <th>145</th>\n",
              "      <td>Saint Helena, Ascension and Tristan da Cunha</td>\n",
              "      <td>United Kingdom</td>\n",
              "      <td>2022-08-03</td>\n",
              "      <td>-7.9467</td>\n",
              "      <td>-14.3559</td>\n",
              "      <td>POINT(-14.3559 -7.9467)</td>\n",
              "      <td>4</td>\n",
              "      <td>0</td>\n",
              "      <td>NaN</td>\n",
              "      <td>NaN</td>\n",
              "      <td>NaN</td>\n",
              "      <td>NaN</td>\n",
              "      <td>Saint Helena, Ascension and Tristan da Cunha, ...</td>\n",
              "    </tr>\n",
              "    <tr>\n",
              "      <th>146</th>\n",
              "      <td>Scotland</td>\n",
              "      <td>United Kingdom</td>\n",
              "      <td>2022-08-03</td>\n",
              "      <td>56.4907</td>\n",
              "      <td>-4.2026</td>\n",
              "      <td>POINT(-4.2026 56.4907)</td>\n",
              "      <td>2074217</td>\n",
              "      <td>12389</td>\n",
              "      <td>NaN</td>\n",
              "      <td>NaN</td>\n",
              "      <td>NaN</td>\n",
              "      <td>NaN</td>\n",
              "      <td>Scotland, United Kingdom</td>\n",
              "    </tr>\n",
              "    <tr>\n",
              "      <th>147</th>\n",
              "      <td>Turks and Caicos Islands</td>\n",
              "      <td>United Kingdom</td>\n",
              "      <td>2022-08-03</td>\n",
              "      <td>21.6940</td>\n",
              "      <td>-71.7979</td>\n",
              "      <td>POINT(-71.7979 21.694)</td>\n",
              "      <td>6328</td>\n",
              "      <td>36</td>\n",
              "      <td>NaN</td>\n",
              "      <td>NaN</td>\n",
              "      <td>NaN</td>\n",
              "      <td>NaN</td>\n",
              "      <td>Turks and Caicos Islands, United Kingdom</td>\n",
              "    </tr>\n",
              "    <tr>\n",
              "      <th>148</th>\n",
              "      <td>Unknown</td>\n",
              "      <td>United Kingdom</td>\n",
              "      <td>2022-08-03</td>\n",
              "      <td>NaN</td>\n",
              "      <td>NaN</td>\n",
              "      <td>NaN</td>\n",
              "      <td>0</td>\n",
              "      <td>0</td>\n",
              "      <td>NaN</td>\n",
              "      <td>NaN</td>\n",
              "      <td>NaN</td>\n",
              "      <td>NaN</td>\n",
              "      <td>Unknown, United Kingdom</td>\n",
              "    </tr>\n",
              "    <tr>\n",
              "      <th>149</th>\n",
              "      <td>Wales</td>\n",
              "      <td>United Kingdom</td>\n",
              "      <td>2022-08-03</td>\n",
              "      <td>52.1307</td>\n",
              "      <td>-3.7837</td>\n",
              "      <td>POINT(-3.7837 52.1307)</td>\n",
              "      <td>882004</td>\n",
              "      <td>7658</td>\n",
              "      <td>NaN</td>\n",
              "      <td>NaN</td>\n",
              "      <td>NaN</td>\n",
              "      <td>NaN</td>\n",
              "      <td>Wales, United Kingdom</td>\n",
              "    </tr>\n",
              "  </tbody>\n",
              "</table>\n",
              "<p>150 rows × 13 columns</p>\n",
              "</div>"
            ],
            "text/plain": [
              "                                   province_state  country_region        date  \\\n",
              "0                                             NaN         Austria  2022-08-03   \n",
              "1                                         Antwerp         Belgium  2022-08-03   \n",
              "2                                        Brussels         Belgium  2022-08-03   \n",
              "3                                   East Flanders         Belgium  2022-08-03   \n",
              "4                                 Flemish Brabant         Belgium  2022-08-03   \n",
              "..                                            ...             ...         ...   \n",
              "145  Saint Helena, Ascension and Tristan da Cunha  United Kingdom  2022-08-03   \n",
              "146                                      Scotland  United Kingdom  2022-08-03   \n",
              "147                      Turks and Caicos Islands  United Kingdom  2022-08-03   \n",
              "148                                       Unknown  United Kingdom  2022-08-03   \n",
              "149                                         Wales  United Kingdom  2022-08-03   \n",
              "\n",
              "     latitude  longitude            location_geom  confirmed  deaths  \\\n",
              "0     47.5162    14.5501   POINT(14.5501 47.5162)    4807205   20390   \n",
              "1     51.2195     4.4024    POINT(4.4024 51.2195)     711225       0   \n",
              "2     50.8503     4.3517    POINT(4.3517 50.8503)     480952       0   \n",
              "3     51.0362     3.7373    POINT(3.7373 51.0362)     598498       0   \n",
              "4     50.9167     4.5833    POINT(4.5833 50.9167)     432232       0   \n",
              "..        ...        ...                      ...        ...     ...   \n",
              "145   -7.9467   -14.3559  POINT(-14.3559 -7.9467)          4       0   \n",
              "146   56.4907    -4.2026   POINT(-4.2026 56.4907)    2074217   12389   \n",
              "147   21.6940   -71.7979   POINT(-71.7979 21.694)       6328      36   \n",
              "148       NaN        NaN                      NaN          0       0   \n",
              "149   52.1307    -3.7837   POINT(-3.7837 52.1307)     882004    7658   \n",
              "\n",
              "     recovered  active  fips  admin2  \\\n",
              "0          NaN     NaN   NaN     NaN   \n",
              "1          NaN     NaN   NaN     NaN   \n",
              "2          NaN     NaN   NaN     NaN   \n",
              "3          NaN     NaN   NaN     NaN   \n",
              "4          NaN     NaN   NaN     NaN   \n",
              "..         ...     ...   ...     ...   \n",
              "145        NaN     NaN   NaN     NaN   \n",
              "146        NaN     NaN   NaN     NaN   \n",
              "147        NaN     NaN   NaN     NaN   \n",
              "148        NaN     NaN   NaN     NaN   \n",
              "149        NaN     NaN   NaN     NaN   \n",
              "\n",
              "                                          combined_key  \n",
              "0                                              Austria  \n",
              "1                                     Antwerp, Belgium  \n",
              "2                                    Brussels, Belgium  \n",
              "3                               East Flanders, Belgium  \n",
              "4                             Flemish Brabant, Belgium  \n",
              "..                                                 ...  \n",
              "145  Saint Helena, Ascension and Tristan da Cunha, ...  \n",
              "146                           Scotland, United Kingdom  \n",
              "147           Turks and Caicos Islands, United Kingdom  \n",
              "148                            Unknown, United Kingdom  \n",
              "149                              Wales, United Kingdom  \n",
              "\n",
              "[150 rows x 13 columns]"
            ]
          },
          "execution_count": 6,
          "metadata": {},
          "output_type": "execute_result"
        }
      ],
      "source": [
        "data_raw"
      ]
    },
    {
      "cell_type": "code",
      "execution_count": 7,
      "metadata": {},
      "outputs": [
        {
          "data": {
            "text/html": [
              "<div>\n",
              "<style scoped>\n",
              "    .dataframe tbody tr th:only-of-type {\n",
              "        vertical-align: middle;\n",
              "    }\n",
              "\n",
              "    .dataframe tbody tr th {\n",
              "        vertical-align: top;\n",
              "    }\n",
              "\n",
              "    .dataframe thead th {\n",
              "        text-align: right;\n",
              "    }\n",
              "</style>\n",
              "<table border=\"1\" class=\"dataframe\">\n",
              "  <thead>\n",
              "    <tr style=\"text-align: right;\">\n",
              "      <th></th>\n",
              "      <th>latitude</th>\n",
              "      <th>longitude</th>\n",
              "      <th>confirmed</th>\n",
              "      <th>deaths</th>\n",
              "      <th>recovered</th>\n",
              "      <th>active</th>\n",
              "      <th>fips</th>\n",
              "      <th>admin2</th>\n",
              "    </tr>\n",
              "  </thead>\n",
              "  <tbody>\n",
              "    <tr>\n",
              "      <th>count</th>\n",
              "      <td>145.000000</td>\n",
              "      <td>145.000000</td>\n",
              "      <td>1.500000e+02</td>\n",
              "      <td>150.000000</td>\n",
              "      <td>0.0</td>\n",
              "      <td>0.0</td>\n",
              "      <td>0.0</td>\n",
              "      <td>0.0</td>\n",
              "    </tr>\n",
              "    <tr>\n",
              "      <th>mean</th>\n",
              "      <td>43.003537</td>\n",
              "      <td>-2.424229</td>\n",
              "      <td>1.115705e+06</td>\n",
              "      <td>6960.880000</td>\n",
              "      <td>NaN</td>\n",
              "      <td>NaN</td>\n",
              "      <td>NaN</td>\n",
              "      <td>NaN</td>\n",
              "    </tr>\n",
              "    <tr>\n",
              "      <th>std</th>\n",
              "      <td>19.273588</td>\n",
              "      <td>34.654824</td>\n",
              "      <td>3.279963e+06</td>\n",
              "      <td>20743.985566</td>\n",
              "      <td>NaN</td>\n",
              "      <td>NaN</td>\n",
              "      <td>NaN</td>\n",
              "      <td>NaN</td>\n",
              "    </tr>\n",
              "    <tr>\n",
              "      <th>min</th>\n",
              "      <td>-51.796300</td>\n",
              "      <td>-178.116500</td>\n",
              "      <td>0.000000e+00</td>\n",
              "      <td>0.000000</td>\n",
              "      <td>NaN</td>\n",
              "      <td>NaN</td>\n",
              "      <td>NaN</td>\n",
              "      <td>NaN</td>\n",
              "    </tr>\n",
              "    <tr>\n",
              "      <th>25%</th>\n",
              "      <td>40.416800</td>\n",
              "      <td>-3.783700</td>\n",
              "      <td>5.850250e+04</td>\n",
              "      <td>168.250000</td>\n",
              "      <td>NaN</td>\n",
              "      <td>NaN</td>\n",
              "      <td>NaN</td>\n",
              "      <td>NaN</td>\n",
              "    </tr>\n",
              "    <tr>\n",
              "      <th>50%</th>\n",
              "      <td>49.396400</td>\n",
              "      <td>5.939114</td>\n",
              "      <td>3.158250e+05</td>\n",
              "      <td>986.000000</td>\n",
              "      <td>NaN</td>\n",
              "      <td>NaN</td>\n",
              "      <td>NaN</td>\n",
              "      <td>NaN</td>\n",
              "    </tr>\n",
              "    <tr>\n",
              "      <th>75%</th>\n",
              "      <td>53.079300</td>\n",
              "      <td>13.201700</td>\n",
              "      <td>8.859520e+05</td>\n",
              "      <td>5424.500000</td>\n",
              "      <td>NaN</td>\n",
              "      <td>NaN</td>\n",
              "      <td>NaN</td>\n",
              "      <td>NaN</td>\n",
              "    </tr>\n",
              "    <tr>\n",
              "      <th>max</th>\n",
              "      <td>71.706900</td>\n",
              "      <td>165.618042</td>\n",
              "      <td>3.304031e+07</td>\n",
              "      <td>161560.000000</td>\n",
              "      <td>NaN</td>\n",
              "      <td>NaN</td>\n",
              "      <td>NaN</td>\n",
              "      <td>NaN</td>\n",
              "    </tr>\n",
              "  </tbody>\n",
              "</table>\n",
              "</div>"
            ],
            "text/plain": [
              "         latitude   longitude     confirmed         deaths  recovered  active  \\\n",
              "count  145.000000  145.000000  1.500000e+02     150.000000        0.0     0.0   \n",
              "mean    43.003537   -2.424229  1.115705e+06    6960.880000        NaN     NaN   \n",
              "std     19.273588   34.654824  3.279963e+06   20743.985566        NaN     NaN   \n",
              "min    -51.796300 -178.116500  0.000000e+00       0.000000        NaN     NaN   \n",
              "25%     40.416800   -3.783700  5.850250e+04     168.250000        NaN     NaN   \n",
              "50%     49.396400    5.939114  3.158250e+05     986.000000        NaN     NaN   \n",
              "75%     53.079300   13.201700  8.859520e+05    5424.500000        NaN     NaN   \n",
              "max     71.706900  165.618042  3.304031e+07  161560.000000        NaN     NaN   \n",
              "\n",
              "       fips  admin2  \n",
              "count   0.0     0.0  \n",
              "mean    NaN     NaN  \n",
              "std     NaN     NaN  \n",
              "min     NaN     NaN  \n",
              "25%     NaN     NaN  \n",
              "50%     NaN     NaN  \n",
              "75%     NaN     NaN  \n",
              "max     NaN     NaN  "
            ]
          },
          "execution_count": 7,
          "metadata": {},
          "output_type": "execute_result"
        }
      ],
      "source": [
        "data_raw.describe()"
      ]
    },
    {
      "cell_type": "markdown",
      "metadata": {},
      "source": [
        "#### Dropping columns with empty values and uneccessary values"
      ]
    },
    {
      "cell_type": "markdown",
      "metadata": {},
      "source": [
        "Check null values"
      ]
    },
    {
      "cell_type": "code",
      "execution_count": 8,
      "metadata": {},
      "outputs": [
        {
          "data": {
            "text/plain": [
              "province_state     11\n",
              "country_region      0\n",
              "date                0\n",
              "latitude            5\n",
              "longitude           5\n",
              "location_geom       5\n",
              "confirmed           0\n",
              "deaths              0\n",
              "recovered         150\n",
              "active            150\n",
              "fips              150\n",
              "admin2            150\n",
              "combined_key        0\n",
              "dtype: int64"
            ]
          },
          "execution_count": 8,
          "metadata": {},
          "output_type": "execute_result"
        }
      ],
      "source": [
        "data_raw.isnull().sum()"
      ]
    },
    {
      "cell_type": "markdown",
      "metadata": {},
      "source": [
        "Copy data_raw"
      ]
    },
    {
      "cell_type": "code",
      "execution_count": 9,
      "metadata": {},
      "outputs": [],
      "source": [
        "data_raw_2 = data_raw.copy()"
      ]
    },
    {
      "cell_type": "markdown",
      "metadata": {},
      "source": [
        "Dropping columns"
      ]
    },
    {
      "cell_type": "code",
      "execution_count": 10,
      "metadata": {},
      "outputs": [],
      "source": [
        "data_raw_2.drop(['recovered', 'active', 'fips', 'admin2', 'combined_key', 'latitude', 'longitude', 'location_geom', 'date'], axis=1, inplace=True)"
      ]
    },
    {
      "cell_type": "markdown",
      "metadata": {},
      "source": [
        "Summarize the new data frame\n"
      ]
    },
    {
      "cell_type": "code",
      "execution_count": 11,
      "metadata": {},
      "outputs": [
        {
          "data": {
            "text/html": [
              "<div>\n",
              "<style scoped>\n",
              "    .dataframe tbody tr th:only-of-type {\n",
              "        vertical-align: middle;\n",
              "    }\n",
              "\n",
              "    .dataframe tbody tr th {\n",
              "        vertical-align: top;\n",
              "    }\n",
              "\n",
              "    .dataframe thead th {\n",
              "        text-align: right;\n",
              "    }\n",
              "</style>\n",
              "<table border=\"1\" class=\"dataframe\">\n",
              "  <thead>\n",
              "    <tr style=\"text-align: right;\">\n",
              "      <th></th>\n",
              "      <th>province_state</th>\n",
              "      <th>country_region</th>\n",
              "      <th>confirmed</th>\n",
              "      <th>deaths</th>\n",
              "    </tr>\n",
              "  </thead>\n",
              "  <tbody>\n",
              "    <tr>\n",
              "      <th>0</th>\n",
              "      <td>NaN</td>\n",
              "      <td>Austria</td>\n",
              "      <td>4807205</td>\n",
              "      <td>20390</td>\n",
              "    </tr>\n",
              "    <tr>\n",
              "      <th>1</th>\n",
              "      <td>Antwerp</td>\n",
              "      <td>Belgium</td>\n",
              "      <td>711225</td>\n",
              "      <td>0</td>\n",
              "    </tr>\n",
              "    <tr>\n",
              "      <th>2</th>\n",
              "      <td>Brussels</td>\n",
              "      <td>Belgium</td>\n",
              "      <td>480952</td>\n",
              "      <td>0</td>\n",
              "    </tr>\n",
              "    <tr>\n",
              "      <th>3</th>\n",
              "      <td>East Flanders</td>\n",
              "      <td>Belgium</td>\n",
              "      <td>598498</td>\n",
              "      <td>0</td>\n",
              "    </tr>\n",
              "    <tr>\n",
              "      <th>4</th>\n",
              "      <td>Flemish Brabant</td>\n",
              "      <td>Belgium</td>\n",
              "      <td>432232</td>\n",
              "      <td>0</td>\n",
              "    </tr>\n",
              "    <tr>\n",
              "      <th>...</th>\n",
              "      <td>...</td>\n",
              "      <td>...</td>\n",
              "      <td>...</td>\n",
              "      <td>...</td>\n",
              "    </tr>\n",
              "    <tr>\n",
              "      <th>145</th>\n",
              "      <td>Saint Helena, Ascension and Tristan da Cunha</td>\n",
              "      <td>United Kingdom</td>\n",
              "      <td>4</td>\n",
              "      <td>0</td>\n",
              "    </tr>\n",
              "    <tr>\n",
              "      <th>146</th>\n",
              "      <td>Scotland</td>\n",
              "      <td>United Kingdom</td>\n",
              "      <td>2074217</td>\n",
              "      <td>12389</td>\n",
              "    </tr>\n",
              "    <tr>\n",
              "      <th>147</th>\n",
              "      <td>Turks and Caicos Islands</td>\n",
              "      <td>United Kingdom</td>\n",
              "      <td>6328</td>\n",
              "      <td>36</td>\n",
              "    </tr>\n",
              "    <tr>\n",
              "      <th>148</th>\n",
              "      <td>Unknown</td>\n",
              "      <td>United Kingdom</td>\n",
              "      <td>0</td>\n",
              "      <td>0</td>\n",
              "    </tr>\n",
              "    <tr>\n",
              "      <th>149</th>\n",
              "      <td>Wales</td>\n",
              "      <td>United Kingdom</td>\n",
              "      <td>882004</td>\n",
              "      <td>7658</td>\n",
              "    </tr>\n",
              "  </tbody>\n",
              "</table>\n",
              "<p>150 rows × 4 columns</p>\n",
              "</div>"
            ],
            "text/plain": [
              "                                   province_state  country_region  confirmed  \\\n",
              "0                                             NaN         Austria    4807205   \n",
              "1                                         Antwerp         Belgium     711225   \n",
              "2                                        Brussels         Belgium     480952   \n",
              "3                                   East Flanders         Belgium     598498   \n",
              "4                                 Flemish Brabant         Belgium     432232   \n",
              "..                                            ...             ...        ...   \n",
              "145  Saint Helena, Ascension and Tristan da Cunha  United Kingdom          4   \n",
              "146                                      Scotland  United Kingdom    2074217   \n",
              "147                      Turks and Caicos Islands  United Kingdom       6328   \n",
              "148                                       Unknown  United Kingdom          0   \n",
              "149                                         Wales  United Kingdom     882004   \n",
              "\n",
              "     deaths  \n",
              "0     20390  \n",
              "1         0  \n",
              "2         0  \n",
              "3         0  \n",
              "4         0  \n",
              "..      ...  \n",
              "145       0  \n",
              "146   12389  \n",
              "147      36  \n",
              "148       0  \n",
              "149    7658  \n",
              "\n",
              "[150 rows x 4 columns]"
            ]
          },
          "execution_count": 11,
          "metadata": {},
          "output_type": "execute_result"
        }
      ],
      "source": [
        "data_raw_2\n"
      ]
    },
    {
      "cell_type": "markdown",
      "metadata": {},
      "source": [
        "#### Removing rows with province/state that is nowhere near Europe"
      ]
    },
    {
      "cell_type": "markdown",
      "metadata": {},
      "source": [
        "ex: Curacao, Bermuda, British Virgin Islands, etc..."
      ]
    },
    {
      "cell_type": "markdown",
      "metadata": {},
      "source": [
        "copy data to new one\n"
      ]
    },
    {
      "cell_type": "code",
      "execution_count": 12,
      "metadata": {},
      "outputs": [],
      "source": [
        "data_raw_3 = data_raw_2.copy()"
      ]
    },
    {
      "cell_type": "markdown",
      "metadata": {},
      "source": [
        "Removing non european states"
      ]
    },
    {
      "cell_type": "code",
      "execution_count": 13,
      "metadata": {},
      "outputs": [],
      "source": [
        "data_raw_4 = data_raw_3.drop(index=([147, 145, 143, 138, 135, 134, 133, 132, 72, 71, 70, 28, 26, 25, 24, 23, 22, 21, 20, 19, 18, 14]))"
      ]
    },
    {
      "cell_type": "markdown",
      "metadata": {},
      "source": [
        "Summarize current data\n"
      ]
    },
    {
      "cell_type": "code",
      "execution_count": 14,
      "metadata": {},
      "outputs": [
        {
          "data": {
            "text/html": [
              "<div>\n",
              "<style scoped>\n",
              "    .dataframe tbody tr th:only-of-type {\n",
              "        vertical-align: middle;\n",
              "    }\n",
              "\n",
              "    .dataframe tbody tr th {\n",
              "        vertical-align: top;\n",
              "    }\n",
              "\n",
              "    .dataframe thead th {\n",
              "        text-align: right;\n",
              "    }\n",
              "</style>\n",
              "<table border=\"1\" class=\"dataframe\">\n",
              "  <thead>\n",
              "    <tr style=\"text-align: right;\">\n",
              "      <th></th>\n",
              "      <th>province_state</th>\n",
              "      <th>country_region</th>\n",
              "      <th>confirmed</th>\n",
              "      <th>deaths</th>\n",
              "    </tr>\n",
              "  </thead>\n",
              "  <tbody>\n",
              "    <tr>\n",
              "      <th>0</th>\n",
              "      <td>NaN</td>\n",
              "      <td>Austria</td>\n",
              "      <td>4807205</td>\n",
              "      <td>20390</td>\n",
              "    </tr>\n",
              "    <tr>\n",
              "      <th>1</th>\n",
              "      <td>Antwerp</td>\n",
              "      <td>Belgium</td>\n",
              "      <td>711225</td>\n",
              "      <td>0</td>\n",
              "    </tr>\n",
              "    <tr>\n",
              "      <th>2</th>\n",
              "      <td>Brussels</td>\n",
              "      <td>Belgium</td>\n",
              "      <td>480952</td>\n",
              "      <td>0</td>\n",
              "    </tr>\n",
              "    <tr>\n",
              "      <th>3</th>\n",
              "      <td>East Flanders</td>\n",
              "      <td>Belgium</td>\n",
              "      <td>598498</td>\n",
              "      <td>0</td>\n",
              "    </tr>\n",
              "    <tr>\n",
              "      <th>4</th>\n",
              "      <td>Flemish Brabant</td>\n",
              "      <td>Belgium</td>\n",
              "      <td>432232</td>\n",
              "      <td>0</td>\n",
              "    </tr>\n",
              "    <tr>\n",
              "      <th>...</th>\n",
              "      <td>...</td>\n",
              "      <td>...</td>\n",
              "      <td>...</td>\n",
              "      <td>...</td>\n",
              "    </tr>\n",
              "    <tr>\n",
              "      <th>142</th>\n",
              "      <td>Jersey</td>\n",
              "      <td>United Kingdom</td>\n",
              "      <td>58003</td>\n",
              "      <td>133</td>\n",
              "    </tr>\n",
              "    <tr>\n",
              "      <th>144</th>\n",
              "      <td>Northern Ireland</td>\n",
              "      <td>United Kingdom</td>\n",
              "      <td>713294</td>\n",
              "      <td>3445</td>\n",
              "    </tr>\n",
              "    <tr>\n",
              "      <th>146</th>\n",
              "      <td>Scotland</td>\n",
              "      <td>United Kingdom</td>\n",
              "      <td>2074217</td>\n",
              "      <td>12389</td>\n",
              "    </tr>\n",
              "    <tr>\n",
              "      <th>148</th>\n",
              "      <td>Unknown</td>\n",
              "      <td>United Kingdom</td>\n",
              "      <td>0</td>\n",
              "      <td>0</td>\n",
              "    </tr>\n",
              "    <tr>\n",
              "      <th>149</th>\n",
              "      <td>Wales</td>\n",
              "      <td>United Kingdom</td>\n",
              "      <td>882004</td>\n",
              "      <td>7658</td>\n",
              "    </tr>\n",
              "  </tbody>\n",
              "</table>\n",
              "<p>128 rows × 4 columns</p>\n",
              "</div>"
            ],
            "text/plain": [
              "       province_state  country_region  confirmed  deaths\n",
              "0                 NaN         Austria    4807205   20390\n",
              "1             Antwerp         Belgium     711225       0\n",
              "2            Brussels         Belgium     480952       0\n",
              "3       East Flanders         Belgium     598498       0\n",
              "4     Flemish Brabant         Belgium     432232       0\n",
              "..                ...             ...        ...     ...\n",
              "142            Jersey  United Kingdom      58003     133\n",
              "144  Northern Ireland  United Kingdom     713294    3445\n",
              "146          Scotland  United Kingdom    2074217   12389\n",
              "148           Unknown  United Kingdom          0       0\n",
              "149             Wales  United Kingdom     882004    7658\n",
              "\n",
              "[128 rows x 4 columns]"
            ]
          },
          "execution_count": 14,
          "metadata": {},
          "output_type": "execute_result"
        }
      ],
      "source": [
        "data_raw_4"
      ]
    },
    {
      "cell_type": "markdown",
      "metadata": {},
      "source": [
        "#### Removing rows with zero confirmed (means no data available, its useless)"
      ]
    },
    {
      "cell_type": "code",
      "execution_count": 15,
      "metadata": {},
      "outputs": [
        {
          "name": "stderr",
          "output_type": "stream",
          "text": [
            "/tmp/ipykernel_2433/509247957.py:1: UserWarning: Boolean Series key will be reindexed to match DataFrame index.\n",
            "  data_raw_5 = data_raw_4[(data_raw_3.confirmed != 0)]\n"
          ]
        }
      ],
      "source": [
        "data_raw_5 = data_raw_4[(data_raw_3.confirmed != 0)]"
      ]
    },
    {
      "cell_type": "markdown",
      "metadata": {},
      "source": [
        "#### Fill Empty Values"
      ]
    },
    {
      "cell_type": "markdown",
      "metadata": {},
      "source": [
        "From our explorations, the data with empty province_states only have one data, and larger than the usual data. \n",
        "my conclusion is that the data is for the whole country."
      ]
    },
    {
      "cell_type": "code",
      "execution_count": 16,
      "metadata": {},
      "outputs": [
        {
          "name": "stderr",
          "output_type": "stream",
          "text": [
            "/tmp/ipykernel_2433/3037408447.py:1: SettingWithCopyWarning: \n",
            "A value is trying to be set on a copy of a slice from a DataFrame\n",
            "\n",
            "See the caveats in the documentation: https://pandas.pydata.org/pandas-docs/stable/user_guide/indexing.html#returning-a-view-versus-a-copy\n",
            "  data_raw_5['province_state'].fillna('Whole country', inplace=True)\n"
          ]
        }
      ],
      "source": [
        "data_raw_5['province_state'].fillna('Whole country', inplace=True)"
      ]
    },
    {
      "cell_type": "markdown",
      "metadata": {},
      "source": [
        "Summarize current data\n"
      ]
    },
    {
      "cell_type": "code",
      "execution_count": 17,
      "metadata": {},
      "outputs": [
        {
          "data": {
            "text/html": [
              "<div>\n",
              "<style scoped>\n",
              "    .dataframe tbody tr th:only-of-type {\n",
              "        vertical-align: middle;\n",
              "    }\n",
              "\n",
              "    .dataframe tbody tr th {\n",
              "        vertical-align: top;\n",
              "    }\n",
              "\n",
              "    .dataframe thead th {\n",
              "        text-align: right;\n",
              "    }\n",
              "</style>\n",
              "<table border=\"1\" class=\"dataframe\">\n",
              "  <thead>\n",
              "    <tr style=\"text-align: right;\">\n",
              "      <th></th>\n",
              "      <th>province_state</th>\n",
              "      <th>country_region</th>\n",
              "      <th>confirmed</th>\n",
              "      <th>deaths</th>\n",
              "    </tr>\n",
              "  </thead>\n",
              "  <tbody>\n",
              "    <tr>\n",
              "      <th>0</th>\n",
              "      <td>Whole country</td>\n",
              "      <td>Austria</td>\n",
              "      <td>4807205</td>\n",
              "      <td>20390</td>\n",
              "    </tr>\n",
              "    <tr>\n",
              "      <th>1</th>\n",
              "      <td>Antwerp</td>\n",
              "      <td>Belgium</td>\n",
              "      <td>711225</td>\n",
              "      <td>0</td>\n",
              "    </tr>\n",
              "    <tr>\n",
              "      <th>2</th>\n",
              "      <td>Brussels</td>\n",
              "      <td>Belgium</td>\n",
              "      <td>480952</td>\n",
              "      <td>0</td>\n",
              "    </tr>\n",
              "    <tr>\n",
              "      <th>3</th>\n",
              "      <td>East Flanders</td>\n",
              "      <td>Belgium</td>\n",
              "      <td>598498</td>\n",
              "      <td>0</td>\n",
              "    </tr>\n",
              "    <tr>\n",
              "      <th>4</th>\n",
              "      <td>Flemish Brabant</td>\n",
              "      <td>Belgium</td>\n",
              "      <td>432232</td>\n",
              "      <td>0</td>\n",
              "    </tr>\n",
              "    <tr>\n",
              "      <th>...</th>\n",
              "      <td>...</td>\n",
              "      <td>...</td>\n",
              "      <td>...</td>\n",
              "      <td>...</td>\n",
              "    </tr>\n",
              "    <tr>\n",
              "      <th>141</th>\n",
              "      <td>Isle of Man</td>\n",
              "      <td>United Kingdom</td>\n",
              "      <td>37794</td>\n",
              "      <td>114</td>\n",
              "    </tr>\n",
              "    <tr>\n",
              "      <th>142</th>\n",
              "      <td>Jersey</td>\n",
              "      <td>United Kingdom</td>\n",
              "      <td>58003</td>\n",
              "      <td>133</td>\n",
              "    </tr>\n",
              "    <tr>\n",
              "      <th>144</th>\n",
              "      <td>Northern Ireland</td>\n",
              "      <td>United Kingdom</td>\n",
              "      <td>713294</td>\n",
              "      <td>3445</td>\n",
              "    </tr>\n",
              "    <tr>\n",
              "      <th>146</th>\n",
              "      <td>Scotland</td>\n",
              "      <td>United Kingdom</td>\n",
              "      <td>2074217</td>\n",
              "      <td>12389</td>\n",
              "    </tr>\n",
              "    <tr>\n",
              "      <th>149</th>\n",
              "      <td>Wales</td>\n",
              "      <td>United Kingdom</td>\n",
              "      <td>882004</td>\n",
              "      <td>7658</td>\n",
              "    </tr>\n",
              "  </tbody>\n",
              "</table>\n",
              "<p>123 rows × 4 columns</p>\n",
              "</div>"
            ],
            "text/plain": [
              "       province_state  country_region  confirmed  deaths\n",
              "0       Whole country         Austria    4807205   20390\n",
              "1             Antwerp         Belgium     711225       0\n",
              "2            Brussels         Belgium     480952       0\n",
              "3       East Flanders         Belgium     598498       0\n",
              "4     Flemish Brabant         Belgium     432232       0\n",
              "..                ...             ...        ...     ...\n",
              "141       Isle of Man  United Kingdom      37794     114\n",
              "142            Jersey  United Kingdom      58003     133\n",
              "144  Northern Ireland  United Kingdom     713294    3445\n",
              "146          Scotland  United Kingdom    2074217   12389\n",
              "149             Wales  United Kingdom     882004    7658\n",
              "\n",
              "[123 rows x 4 columns]"
            ]
          },
          "execution_count": 17,
          "metadata": {},
          "output_type": "execute_result"
        }
      ],
      "source": [
        "data_raw_5"
      ]
    },
    {
      "cell_type": "markdown",
      "metadata": {},
      "source": [
        "#### Group Every country province_state into one country, and sum the confirmed and deaths count"
      ]
    },
    {
      "cell_type": "code",
      "execution_count": 18,
      "metadata": {},
      "outputs": [
        {
          "name": "stderr",
          "output_type": "stream",
          "text": [
            "/tmp/ipykernel_2433/3737732656.py:1: FutureWarning: Indexing with multiple keys (implicitly converted to a tuple of keys) will be deprecated, use a list instead.\n",
            "  data_raw_6 = data_raw_5.groupby(['country_region'])['confirmed', 'deaths'].sum().reset_index()\n"
          ]
        }
      ],
      "source": [
        "data_raw_6 = data_raw_5.groupby(['country_region'])['confirmed', 'deaths'].sum().reset_index()"
      ]
    },
    {
      "cell_type": "markdown",
      "metadata": {},
      "source": [
        "Rename country_region to country "
      ]
    },
    {
      "cell_type": "code",
      "execution_count": 19,
      "metadata": {},
      "outputs": [],
      "source": [
        "cleaned_data = data_raw_6.rename(columns={\"country_region\":\"Country\"})\n"
      ]
    },
    {
      "cell_type": "markdown",
      "metadata": {},
      "source": [
        "#### Make new columns for death rates calculation"
      ]
    },
    {
      "cell_type": "code",
      "execution_count": 20,
      "metadata": {},
      "outputs": [],
      "source": [
        "cleaned_data['death rates'] = cleaned_data['deaths'].div(cleaned_data.confirmed, axis=0) * 100"
      ]
    },
    {
      "cell_type": "markdown",
      "metadata": {},
      "source": [
        "Summarize cleaned data"
      ]
    },
    {
      "cell_type": "code",
      "execution_count": 21,
      "metadata": {},
      "outputs": [
        {
          "data": {
            "text/html": [
              "<div>\n",
              "<style scoped>\n",
              "    .dataframe tbody tr th:only-of-type {\n",
              "        vertical-align: middle;\n",
              "    }\n",
              "\n",
              "    .dataframe tbody tr th {\n",
              "        vertical-align: top;\n",
              "    }\n",
              "\n",
              "    .dataframe thead th {\n",
              "        text-align: right;\n",
              "    }\n",
              "</style>\n",
              "<table border=\"1\" class=\"dataframe\">\n",
              "  <thead>\n",
              "    <tr style=\"text-align: right;\">\n",
              "      <th></th>\n",
              "      <th>Country</th>\n",
              "      <th>confirmed</th>\n",
              "      <th>deaths</th>\n",
              "      <th>death rates</th>\n",
              "    </tr>\n",
              "  </thead>\n",
              "  <tbody>\n",
              "    <tr>\n",
              "      <th>0</th>\n",
              "      <td>Austria</td>\n",
              "      <td>4807205</td>\n",
              "      <td>20390</td>\n",
              "      <td>0.424155</td>\n",
              "    </tr>\n",
              "    <tr>\n",
              "      <th>1</th>\n",
              "      <td>Belgium</td>\n",
              "      <td>4425201</td>\n",
              "      <td>32263</td>\n",
              "      <td>0.729074</td>\n",
              "    </tr>\n",
              "    <tr>\n",
              "      <th>2</th>\n",
              "      <td>Denmark</td>\n",
              "      <td>3272064</td>\n",
              "      <td>6715</td>\n",
              "      <td>0.205222</td>\n",
              "    </tr>\n",
              "    <tr>\n",
              "      <th>3</th>\n",
              "      <td>Estonia</td>\n",
              "      <td>591377</td>\n",
              "      <td>2628</td>\n",
              "      <td>0.444387</td>\n",
              "    </tr>\n",
              "    <tr>\n",
              "      <th>4</th>\n",
              "      <td>Finland</td>\n",
              "      <td>1171034</td>\n",
              "      <td>5012</td>\n",
              "      <td>0.427998</td>\n",
              "    </tr>\n",
              "    <tr>\n",
              "      <th>5</th>\n",
              "      <td>France</td>\n",
              "      <td>33051978</td>\n",
              "      <td>149038</td>\n",
              "      <td>0.450920</td>\n",
              "    </tr>\n",
              "    <tr>\n",
              "      <th>6</th>\n",
              "      <td>Germany</td>\n",
              "      <td>31119199</td>\n",
              "      <td>144552</td>\n",
              "      <td>0.464511</td>\n",
              "    </tr>\n",
              "    <tr>\n",
              "      <th>7</th>\n",
              "      <td>Ireland</td>\n",
              "      <td>1647605</td>\n",
              "      <td>7700</td>\n",
              "      <td>0.467345</td>\n",
              "    </tr>\n",
              "    <tr>\n",
              "      <th>8</th>\n",
              "      <td>Italy</td>\n",
              "      <td>21170600</td>\n",
              "      <td>172568</td>\n",
              "      <td>0.815130</td>\n",
              "    </tr>\n",
              "    <tr>\n",
              "      <th>9</th>\n",
              "      <td>Luxembourg</td>\n",
              "      <td>283214</td>\n",
              "      <td>1113</td>\n",
              "      <td>0.392989</td>\n",
              "    </tr>\n",
              "    <tr>\n",
              "      <th>10</th>\n",
              "      <td>Netherlands</td>\n",
              "      <td>8355508</td>\n",
              "      <td>22593</td>\n",
              "      <td>0.270396</td>\n",
              "    </tr>\n",
              "    <tr>\n",
              "      <th>11</th>\n",
              "      <td>Norway</td>\n",
              "      <td>1456493</td>\n",
              "      <td>3623</td>\n",
              "      <td>0.248748</td>\n",
              "    </tr>\n",
              "    <tr>\n",
              "      <th>12</th>\n",
              "      <td>Poland</td>\n",
              "      <td>6080398</td>\n",
              "      <td>116608</td>\n",
              "      <td>1.917769</td>\n",
              "    </tr>\n",
              "    <tr>\n",
              "      <th>13</th>\n",
              "      <td>Portugal</td>\n",
              "      <td>5353103</td>\n",
              "      <td>24645</td>\n",
              "      <td>0.460387</td>\n",
              "    </tr>\n",
              "    <tr>\n",
              "      <th>14</th>\n",
              "      <td>Spain</td>\n",
              "      <td>13245996</td>\n",
              "      <td>110713</td>\n",
              "      <td>0.835822</td>\n",
              "    </tr>\n",
              "    <tr>\n",
              "      <th>15</th>\n",
              "      <td>Sweden</td>\n",
              "      <td>2539715</td>\n",
              "      <td>19358</td>\n",
              "      <td>0.762212</td>\n",
              "    </tr>\n",
              "    <tr>\n",
              "      <th>16</th>\n",
              "      <td>Switzerland</td>\n",
              "      <td>3972622</td>\n",
              "      <td>13917</td>\n",
              "      <td>0.350323</td>\n",
              "    </tr>\n",
              "    <tr>\n",
              "      <th>17</th>\n",
              "      <td>United Kingdom</td>\n",
              "      <td>23514832</td>\n",
              "      <td>185464</td>\n",
              "      <td>0.788711</td>\n",
              "    </tr>\n",
              "  </tbody>\n",
              "</table>\n",
              "</div>"
            ],
            "text/plain": [
              "           Country  confirmed  deaths  death rates\n",
              "0          Austria    4807205   20390     0.424155\n",
              "1          Belgium    4425201   32263     0.729074\n",
              "2          Denmark    3272064    6715     0.205222\n",
              "3          Estonia     591377    2628     0.444387\n",
              "4          Finland    1171034    5012     0.427998\n",
              "5           France   33051978  149038     0.450920\n",
              "6          Germany   31119199  144552     0.464511\n",
              "7          Ireland    1647605    7700     0.467345\n",
              "8            Italy   21170600  172568     0.815130\n",
              "9       Luxembourg     283214    1113     0.392989\n",
              "10     Netherlands    8355508   22593     0.270396\n",
              "11          Norway    1456493    3623     0.248748\n",
              "12          Poland    6080398  116608     1.917769\n",
              "13        Portugal    5353103   24645     0.460387\n",
              "14           Spain   13245996  110713     0.835822\n",
              "15          Sweden    2539715   19358     0.762212\n",
              "16     Switzerland    3972622   13917     0.350323\n",
              "17  United Kingdom   23514832  185464     0.788711"
            ]
          },
          "execution_count": 21,
          "metadata": {},
          "output_type": "execute_result"
        }
      ],
      "source": [
        "cleaned_data"
      ]
    },
    {
      "cell_type": "markdown",
      "metadata": {},
      "source": [
        "#### Group europe by North, West, South\n",
        "Buat ngejer target rubric grouping"
      ]
    },
    {
      "cell_type": "code",
      "execution_count": 22,
      "metadata": {},
      "outputs": [],
      "source": [
        "# copy data\n",
        "divide_europe_raw = cleaned_data.copy()\n",
        "divide_europe_raw['Region'] = ['Western europe', 'Western europe', 'Northern europe' , 'Northern europe', 'Northern europe' , 'Western europe', 'Western europe', 'Western europe', 'Southern europe', 'Western europe', 'Western europe', 'Northern europe', 'Central europe', 'Southern europe', 'Southern europe','Northern europe' ,'Western europe', 'Western europe']"
      ]
    },
    {
      "cell_type": "code",
      "execution_count": 23,
      "metadata": {},
      "outputs": [],
      "source": [
        "divide_europe_raw.drop(['death rates', 'Country'], axis=1, inplace=True)"
      ]
    },
    {
      "cell_type": "markdown",
      "metadata": {},
      "source": [
        "Move region column to front"
      ]
    },
    {
      "cell_type": "code",
      "execution_count": 24,
      "metadata": {},
      "outputs": [],
      "source": [
        "divide_europe_raw = divide_europe_raw[['Region'] + [x for x in divide_europe_raw.columns if x != 'Region']]"
      ]
    },
    {
      "cell_type": "code",
      "execution_count": 25,
      "metadata": {},
      "outputs": [
        {
          "data": {
            "text/html": [
              "<div>\n",
              "<style scoped>\n",
              "    .dataframe tbody tr th:only-of-type {\n",
              "        vertical-align: middle;\n",
              "    }\n",
              "\n",
              "    .dataframe tbody tr th {\n",
              "        vertical-align: top;\n",
              "    }\n",
              "\n",
              "    .dataframe thead th {\n",
              "        text-align: right;\n",
              "    }\n",
              "</style>\n",
              "<table border=\"1\" class=\"dataframe\">\n",
              "  <thead>\n",
              "    <tr style=\"text-align: right;\">\n",
              "      <th></th>\n",
              "      <th>Region</th>\n",
              "      <th>confirmed</th>\n",
              "      <th>deaths</th>\n",
              "    </tr>\n",
              "  </thead>\n",
              "  <tbody>\n",
              "    <tr>\n",
              "      <th>0</th>\n",
              "      <td>Western europe</td>\n",
              "      <td>4807205</td>\n",
              "      <td>20390</td>\n",
              "    </tr>\n",
              "    <tr>\n",
              "      <th>1</th>\n",
              "      <td>Western europe</td>\n",
              "      <td>4425201</td>\n",
              "      <td>32263</td>\n",
              "    </tr>\n",
              "    <tr>\n",
              "      <th>2</th>\n",
              "      <td>Northern europe</td>\n",
              "      <td>3272064</td>\n",
              "      <td>6715</td>\n",
              "    </tr>\n",
              "    <tr>\n",
              "      <th>3</th>\n",
              "      <td>Northern europe</td>\n",
              "      <td>591377</td>\n",
              "      <td>2628</td>\n",
              "    </tr>\n",
              "    <tr>\n",
              "      <th>4</th>\n",
              "      <td>Northern europe</td>\n",
              "      <td>1171034</td>\n",
              "      <td>5012</td>\n",
              "    </tr>\n",
              "    <tr>\n",
              "      <th>5</th>\n",
              "      <td>Western europe</td>\n",
              "      <td>33051978</td>\n",
              "      <td>149038</td>\n",
              "    </tr>\n",
              "    <tr>\n",
              "      <th>6</th>\n",
              "      <td>Western europe</td>\n",
              "      <td>31119199</td>\n",
              "      <td>144552</td>\n",
              "    </tr>\n",
              "    <tr>\n",
              "      <th>7</th>\n",
              "      <td>Western europe</td>\n",
              "      <td>1647605</td>\n",
              "      <td>7700</td>\n",
              "    </tr>\n",
              "    <tr>\n",
              "      <th>8</th>\n",
              "      <td>Southern europe</td>\n",
              "      <td>21170600</td>\n",
              "      <td>172568</td>\n",
              "    </tr>\n",
              "    <tr>\n",
              "      <th>9</th>\n",
              "      <td>Western europe</td>\n",
              "      <td>283214</td>\n",
              "      <td>1113</td>\n",
              "    </tr>\n",
              "    <tr>\n",
              "      <th>10</th>\n",
              "      <td>Western europe</td>\n",
              "      <td>8355508</td>\n",
              "      <td>22593</td>\n",
              "    </tr>\n",
              "    <tr>\n",
              "      <th>11</th>\n",
              "      <td>Northern europe</td>\n",
              "      <td>1456493</td>\n",
              "      <td>3623</td>\n",
              "    </tr>\n",
              "    <tr>\n",
              "      <th>12</th>\n",
              "      <td>Central europe</td>\n",
              "      <td>6080398</td>\n",
              "      <td>116608</td>\n",
              "    </tr>\n",
              "    <tr>\n",
              "      <th>13</th>\n",
              "      <td>Southern europe</td>\n",
              "      <td>5353103</td>\n",
              "      <td>24645</td>\n",
              "    </tr>\n",
              "    <tr>\n",
              "      <th>14</th>\n",
              "      <td>Southern europe</td>\n",
              "      <td>13245996</td>\n",
              "      <td>110713</td>\n",
              "    </tr>\n",
              "    <tr>\n",
              "      <th>15</th>\n",
              "      <td>Northern europe</td>\n",
              "      <td>2539715</td>\n",
              "      <td>19358</td>\n",
              "    </tr>\n",
              "    <tr>\n",
              "      <th>16</th>\n",
              "      <td>Western europe</td>\n",
              "      <td>3972622</td>\n",
              "      <td>13917</td>\n",
              "    </tr>\n",
              "    <tr>\n",
              "      <th>17</th>\n",
              "      <td>Western europe</td>\n",
              "      <td>23514832</td>\n",
              "      <td>185464</td>\n",
              "    </tr>\n",
              "  </tbody>\n",
              "</table>\n",
              "</div>"
            ],
            "text/plain": [
              "             Region  confirmed  deaths\n",
              "0    Western europe    4807205   20390\n",
              "1    Western europe    4425201   32263\n",
              "2   Northern europe    3272064    6715\n",
              "3   Northern europe     591377    2628\n",
              "4   Northern europe    1171034    5012\n",
              "5    Western europe   33051978  149038\n",
              "6    Western europe   31119199  144552\n",
              "7    Western europe    1647605    7700\n",
              "8   Southern europe   21170600  172568\n",
              "9    Western europe     283214    1113\n",
              "10   Western europe    8355508   22593\n",
              "11  Northern europe    1456493    3623\n",
              "12   Central europe    6080398  116608\n",
              "13  Southern europe    5353103   24645\n",
              "14  Southern europe   13245996  110713\n",
              "15  Northern europe    2539715   19358\n",
              "16   Western europe    3972622   13917\n",
              "17   Western europe   23514832  185464"
            ]
          },
          "execution_count": 25,
          "metadata": {},
          "output_type": "execute_result"
        }
      ],
      "source": [
        "divide_europe_raw"
      ]
    },
    {
      "cell_type": "code",
      "execution_count": 26,
      "metadata": {},
      "outputs": [
        {
          "name": "stderr",
          "output_type": "stream",
          "text": [
            "/tmp/ipykernel_2433/764488313.py:1: FutureWarning: Indexing with multiple keys (implicitly converted to a tuple of keys) will be deprecated, use a list instead.\n",
            "  divide_europe = divide_europe_raw.groupby(['Region'])['confirmed', 'deaths'].sum().reset_index()\n"
          ]
        }
      ],
      "source": [
        "divide_europe = divide_europe_raw.groupby(['Region'])['confirmed', 'deaths'].sum().reset_index()"
      ]
    },
    {
      "cell_type": "markdown",
      "metadata": {},
      "source": [
        "Summarize Europe region"
      ]
    },
    {
      "cell_type": "code",
      "execution_count": 27,
      "metadata": {},
      "outputs": [
        {
          "data": {
            "text/html": [
              "<div>\n",
              "<style scoped>\n",
              "    .dataframe tbody tr th:only-of-type {\n",
              "        vertical-align: middle;\n",
              "    }\n",
              "\n",
              "    .dataframe tbody tr th {\n",
              "        vertical-align: top;\n",
              "    }\n",
              "\n",
              "    .dataframe thead th {\n",
              "        text-align: right;\n",
              "    }\n",
              "</style>\n",
              "<table border=\"1\" class=\"dataframe\">\n",
              "  <thead>\n",
              "    <tr style=\"text-align: right;\">\n",
              "      <th></th>\n",
              "      <th>Region</th>\n",
              "      <th>confirmed</th>\n",
              "      <th>deaths</th>\n",
              "    </tr>\n",
              "  </thead>\n",
              "  <tbody>\n",
              "    <tr>\n",
              "      <th>0</th>\n",
              "      <td>Central europe</td>\n",
              "      <td>6080398</td>\n",
              "      <td>116608</td>\n",
              "    </tr>\n",
              "    <tr>\n",
              "      <th>1</th>\n",
              "      <td>Northern europe</td>\n",
              "      <td>9030683</td>\n",
              "      <td>37336</td>\n",
              "    </tr>\n",
              "    <tr>\n",
              "      <th>2</th>\n",
              "      <td>Southern europe</td>\n",
              "      <td>39769699</td>\n",
              "      <td>307926</td>\n",
              "    </tr>\n",
              "    <tr>\n",
              "      <th>3</th>\n",
              "      <td>Western europe</td>\n",
              "      <td>111177364</td>\n",
              "      <td>577030</td>\n",
              "    </tr>\n",
              "  </tbody>\n",
              "</table>\n",
              "</div>"
            ],
            "text/plain": [
              "            Region  confirmed  deaths\n",
              "0   Central europe    6080398  116608\n",
              "1  Northern europe    9030683   37336\n",
              "2  Southern europe   39769699  307926\n",
              "3   Western europe  111177364  577030"
            ]
          },
          "execution_count": 27,
          "metadata": {},
          "output_type": "execute_result"
        }
      ],
      "source": [
        "divide_europe"
      ]
    },
    {
      "cell_type": "markdown",
      "metadata": {},
      "source": [
        "## Exploring data"
      ]
    },
    {
      "cell_type": "markdown",
      "metadata": {},
      "source": [
        "#### Table with Cleaned data"
      ]
    },
    {
      "cell_type": "markdown",
      "metadata": {},
      "source": [
        "Show first 5 data"
      ]
    },
    {
      "cell_type": "code",
      "execution_count": 28,
      "metadata": {},
      "outputs": [
        {
          "data": {
            "text/html": [
              "<div>\n",
              "<style scoped>\n",
              "    .dataframe tbody tr th:only-of-type {\n",
              "        vertical-align: middle;\n",
              "    }\n",
              "\n",
              "    .dataframe tbody tr th {\n",
              "        vertical-align: top;\n",
              "    }\n",
              "\n",
              "    .dataframe thead th {\n",
              "        text-align: right;\n",
              "    }\n",
              "</style>\n",
              "<table border=\"1\" class=\"dataframe\">\n",
              "  <thead>\n",
              "    <tr style=\"text-align: right;\">\n",
              "      <th></th>\n",
              "      <th>Country</th>\n",
              "      <th>confirmed</th>\n",
              "      <th>deaths</th>\n",
              "      <th>death rates</th>\n",
              "    </tr>\n",
              "  </thead>\n",
              "  <tbody>\n",
              "    <tr>\n",
              "      <th>0</th>\n",
              "      <td>Austria</td>\n",
              "      <td>4807205</td>\n",
              "      <td>20390</td>\n",
              "      <td>0.424155</td>\n",
              "    </tr>\n",
              "    <tr>\n",
              "      <th>1</th>\n",
              "      <td>Belgium</td>\n",
              "      <td>4425201</td>\n",
              "      <td>32263</td>\n",
              "      <td>0.729074</td>\n",
              "    </tr>\n",
              "    <tr>\n",
              "      <th>2</th>\n",
              "      <td>Denmark</td>\n",
              "      <td>3272064</td>\n",
              "      <td>6715</td>\n",
              "      <td>0.205222</td>\n",
              "    </tr>\n",
              "    <tr>\n",
              "      <th>3</th>\n",
              "      <td>Estonia</td>\n",
              "      <td>591377</td>\n",
              "      <td>2628</td>\n",
              "      <td>0.444387</td>\n",
              "    </tr>\n",
              "    <tr>\n",
              "      <th>4</th>\n",
              "      <td>Finland</td>\n",
              "      <td>1171034</td>\n",
              "      <td>5012</td>\n",
              "      <td>0.427998</td>\n",
              "    </tr>\n",
              "  </tbody>\n",
              "</table>\n",
              "</div>"
            ],
            "text/plain": [
              "   Country  confirmed  deaths  death rates\n",
              "0  Austria    4807205   20390     0.424155\n",
              "1  Belgium    4425201   32263     0.729074\n",
              "2  Denmark    3272064    6715     0.205222\n",
              "3  Estonia     591377    2628     0.444387\n",
              "4  Finland    1171034    5012     0.427998"
            ]
          },
          "execution_count": 28,
          "metadata": {},
          "output_type": "execute_result"
        }
      ],
      "source": [
        "cleaned_data.head()"
      ]
    },
    {
      "cell_type": "markdown",
      "metadata": {},
      "source": [
        "Show last 5 data"
      ]
    },
    {
      "cell_type": "code",
      "execution_count": 29,
      "metadata": {},
      "outputs": [
        {
          "data": {
            "text/html": [
              "<div>\n",
              "<style scoped>\n",
              "    .dataframe tbody tr th:only-of-type {\n",
              "        vertical-align: middle;\n",
              "    }\n",
              "\n",
              "    .dataframe tbody tr th {\n",
              "        vertical-align: top;\n",
              "    }\n",
              "\n",
              "    .dataframe thead th {\n",
              "        text-align: right;\n",
              "    }\n",
              "</style>\n",
              "<table border=\"1\" class=\"dataframe\">\n",
              "  <thead>\n",
              "    <tr style=\"text-align: right;\">\n",
              "      <th></th>\n",
              "      <th>Country</th>\n",
              "      <th>confirmed</th>\n",
              "      <th>deaths</th>\n",
              "      <th>death rates</th>\n",
              "    </tr>\n",
              "  </thead>\n",
              "  <tbody>\n",
              "    <tr>\n",
              "      <th>13</th>\n",
              "      <td>Portugal</td>\n",
              "      <td>5353103</td>\n",
              "      <td>24645</td>\n",
              "      <td>0.460387</td>\n",
              "    </tr>\n",
              "    <tr>\n",
              "      <th>14</th>\n",
              "      <td>Spain</td>\n",
              "      <td>13245996</td>\n",
              "      <td>110713</td>\n",
              "      <td>0.835822</td>\n",
              "    </tr>\n",
              "    <tr>\n",
              "      <th>15</th>\n",
              "      <td>Sweden</td>\n",
              "      <td>2539715</td>\n",
              "      <td>19358</td>\n",
              "      <td>0.762212</td>\n",
              "    </tr>\n",
              "    <tr>\n",
              "      <th>16</th>\n",
              "      <td>Switzerland</td>\n",
              "      <td>3972622</td>\n",
              "      <td>13917</td>\n",
              "      <td>0.350323</td>\n",
              "    </tr>\n",
              "    <tr>\n",
              "      <th>17</th>\n",
              "      <td>United Kingdom</td>\n",
              "      <td>23514832</td>\n",
              "      <td>185464</td>\n",
              "      <td>0.788711</td>\n",
              "    </tr>\n",
              "  </tbody>\n",
              "</table>\n",
              "</div>"
            ],
            "text/plain": [
              "           Country  confirmed  deaths  death rates\n",
              "13        Portugal    5353103   24645     0.460387\n",
              "14           Spain   13245996  110713     0.835822\n",
              "15          Sweden    2539715   19358     0.762212\n",
              "16     Switzerland    3972622   13917     0.350323\n",
              "17  United Kingdom   23514832  185464     0.788711"
            ]
          },
          "execution_count": 29,
          "metadata": {},
          "output_type": "execute_result"
        }
      ],
      "source": [
        "cleaned_data.tail()"
      ]
    },
    {
      "cell_type": "markdown",
      "metadata": {},
      "source": [
        "looking at the data stats, like mean"
      ]
    },
    {
      "cell_type": "code",
      "execution_count": 30,
      "metadata": {},
      "outputs": [
        {
          "data": {
            "text/html": [
              "<div>\n",
              "<style scoped>\n",
              "    .dataframe tbody tr th:only-of-type {\n",
              "        vertical-align: middle;\n",
              "    }\n",
              "\n",
              "    .dataframe tbody tr th {\n",
              "        vertical-align: top;\n",
              "    }\n",
              "\n",
              "    .dataframe thead th {\n",
              "        text-align: right;\n",
              "    }\n",
              "</style>\n",
              "<table border=\"1\" class=\"dataframe\">\n",
              "  <thead>\n",
              "    <tr style=\"text-align: right;\">\n",
              "      <th></th>\n",
              "      <th>confirmed</th>\n",
              "      <th>deaths</th>\n",
              "      <th>death rates</th>\n",
              "    </tr>\n",
              "  </thead>\n",
              "  <tbody>\n",
              "    <tr>\n",
              "      <th>count</th>\n",
              "      <td>1.800000e+01</td>\n",
              "      <td>18.000000</td>\n",
              "      <td>18.000000</td>\n",
              "    </tr>\n",
              "    <tr>\n",
              "      <th>mean</th>\n",
              "      <td>9.225452e+06</td>\n",
              "      <td>57716.666667</td>\n",
              "      <td>0.580894</td>\n",
              "    </tr>\n",
              "    <tr>\n",
              "      <th>std</th>\n",
              "      <td>1.063618e+07</td>\n",
              "      <td>67069.246809</td>\n",
              "      <td>0.388502</td>\n",
              "    </tr>\n",
              "    <tr>\n",
              "      <th>min</th>\n",
              "      <td>2.832140e+05</td>\n",
              "      <td>1113.000000</td>\n",
              "      <td>0.205222</td>\n",
              "    </tr>\n",
              "    <tr>\n",
              "      <th>25%</th>\n",
              "      <td>1.870632e+06</td>\n",
              "      <td>6961.250000</td>\n",
              "      <td>0.400781</td>\n",
              "    </tr>\n",
              "    <tr>\n",
              "      <th>50%</th>\n",
              "      <td>4.616203e+06</td>\n",
              "      <td>21491.500000</td>\n",
              "      <td>0.455654</td>\n",
              "    </tr>\n",
              "    <tr>\n",
              "      <th>75%</th>\n",
              "      <td>1.202337e+07</td>\n",
              "      <td>115134.250000</td>\n",
              "      <td>0.753927</td>\n",
              "    </tr>\n",
              "    <tr>\n",
              "      <th>max</th>\n",
              "      <td>3.305198e+07</td>\n",
              "      <td>185464.000000</td>\n",
              "      <td>1.917769</td>\n",
              "    </tr>\n",
              "  </tbody>\n",
              "</table>\n",
              "</div>"
            ],
            "text/plain": [
              "          confirmed         deaths  death rates\n",
              "count  1.800000e+01      18.000000    18.000000\n",
              "mean   9.225452e+06   57716.666667     0.580894\n",
              "std    1.063618e+07   67069.246809     0.388502\n",
              "min    2.832140e+05    1113.000000     0.205222\n",
              "25%    1.870632e+06    6961.250000     0.400781\n",
              "50%    4.616203e+06   21491.500000     0.455654\n",
              "75%    1.202337e+07  115134.250000     0.753927\n",
              "max    3.305198e+07  185464.000000     1.917769"
            ]
          },
          "execution_count": 30,
          "metadata": {},
          "output_type": "execute_result"
        }
      ],
      "source": [
        "cleaned_data.describe()"
      ]
    },
    {
      "cell_type": "markdown",
      "metadata": {},
      "source": [
        "Mean for confirmed, deaths and death rates"
      ]
    },
    {
      "cell_type": "code",
      "execution_count": 36,
      "metadata": {},
      "outputs": [
        {
          "data": {
            "text/plain": [
              "(9225452.44, 57716.67, 0.58)"
            ]
          },
          "execution_count": 36,
          "metadata": {},
          "output_type": "execute_result"
        }
      ],
      "source": [
        "# Means\n",
        "confirmed_mean = round(cleaned_data['confirmed'].mean(), 2)\n",
        "deaths_mean = round(cleaned_data['deaths'].mean(), 2)\n",
        "death_rate_mean = round(cleaned_data['death rates'].mean(), 2)\n",
        "\n",
        "confirmed_mean, deaths_mean, death_rate_mean"
      ]
    },
    {
      "cell_type": "markdown",
      "metadata": {},
      "source": [
        "Median for confirmed, deaths and death rates"
      ]
    },
    {
      "cell_type": "code",
      "execution_count": 37,
      "metadata": {},
      "outputs": [
        {
          "data": {
            "text/plain": [
              "(4616203.0, 21491.5, 0.46)"
            ]
          },
          "execution_count": 37,
          "metadata": {},
          "output_type": "execute_result"
        }
      ],
      "source": [
        "# Medians\n",
        "confirmed_median = round(cleaned_data['confirmed'].median(), 2)\n",
        "deaths_median = round(cleaned_data['deaths'].median(), 2)\n",
        "death_rate_median = round(cleaned_data['death rates'].median(), 2)\n",
        "\n",
        "confirmed_median, deaths_median, death_rate_median"
      ]
    },
    {
      "cell_type": "markdown",
      "metadata": {},
      "source": [
        "Sort data by death rates"
      ]
    },
    {
      "cell_type": "code",
      "execution_count": 32,
      "metadata": {},
      "outputs": [
        {
          "data": {
            "text/html": [
              "<div>\n",
              "<style scoped>\n",
              "    .dataframe tbody tr th:only-of-type {\n",
              "        vertical-align: middle;\n",
              "    }\n",
              "\n",
              "    .dataframe tbody tr th {\n",
              "        vertical-align: top;\n",
              "    }\n",
              "\n",
              "    .dataframe thead th {\n",
              "        text-align: right;\n",
              "    }\n",
              "</style>\n",
              "<table border=\"1\" class=\"dataframe\">\n",
              "  <thead>\n",
              "    <tr style=\"text-align: right;\">\n",
              "      <th></th>\n",
              "      <th>Country</th>\n",
              "      <th>confirmed</th>\n",
              "      <th>deaths</th>\n",
              "      <th>death rates</th>\n",
              "    </tr>\n",
              "  </thead>\n",
              "  <tbody>\n",
              "    <tr>\n",
              "      <th>2</th>\n",
              "      <td>Denmark</td>\n",
              "      <td>3272064</td>\n",
              "      <td>6715</td>\n",
              "      <td>0.205222</td>\n",
              "    </tr>\n",
              "    <tr>\n",
              "      <th>11</th>\n",
              "      <td>Norway</td>\n",
              "      <td>1456493</td>\n",
              "      <td>3623</td>\n",
              "      <td>0.248748</td>\n",
              "    </tr>\n",
              "    <tr>\n",
              "      <th>10</th>\n",
              "      <td>Netherlands</td>\n",
              "      <td>8355508</td>\n",
              "      <td>22593</td>\n",
              "      <td>0.270396</td>\n",
              "    </tr>\n",
              "    <tr>\n",
              "      <th>16</th>\n",
              "      <td>Switzerland</td>\n",
              "      <td>3972622</td>\n",
              "      <td>13917</td>\n",
              "      <td>0.350323</td>\n",
              "    </tr>\n",
              "    <tr>\n",
              "      <th>9</th>\n",
              "      <td>Luxembourg</td>\n",
              "      <td>283214</td>\n",
              "      <td>1113</td>\n",
              "      <td>0.392989</td>\n",
              "    </tr>\n",
              "    <tr>\n",
              "      <th>0</th>\n",
              "      <td>Austria</td>\n",
              "      <td>4807205</td>\n",
              "      <td>20390</td>\n",
              "      <td>0.424155</td>\n",
              "    </tr>\n",
              "    <tr>\n",
              "      <th>4</th>\n",
              "      <td>Finland</td>\n",
              "      <td>1171034</td>\n",
              "      <td>5012</td>\n",
              "      <td>0.427998</td>\n",
              "    </tr>\n",
              "    <tr>\n",
              "      <th>3</th>\n",
              "      <td>Estonia</td>\n",
              "      <td>591377</td>\n",
              "      <td>2628</td>\n",
              "      <td>0.444387</td>\n",
              "    </tr>\n",
              "    <tr>\n",
              "      <th>5</th>\n",
              "      <td>France</td>\n",
              "      <td>33051978</td>\n",
              "      <td>149038</td>\n",
              "      <td>0.450920</td>\n",
              "    </tr>\n",
              "    <tr>\n",
              "      <th>13</th>\n",
              "      <td>Portugal</td>\n",
              "      <td>5353103</td>\n",
              "      <td>24645</td>\n",
              "      <td>0.460387</td>\n",
              "    </tr>\n",
              "    <tr>\n",
              "      <th>6</th>\n",
              "      <td>Germany</td>\n",
              "      <td>31119199</td>\n",
              "      <td>144552</td>\n",
              "      <td>0.464511</td>\n",
              "    </tr>\n",
              "    <tr>\n",
              "      <th>7</th>\n",
              "      <td>Ireland</td>\n",
              "      <td>1647605</td>\n",
              "      <td>7700</td>\n",
              "      <td>0.467345</td>\n",
              "    </tr>\n",
              "    <tr>\n",
              "      <th>1</th>\n",
              "      <td>Belgium</td>\n",
              "      <td>4425201</td>\n",
              "      <td>32263</td>\n",
              "      <td>0.729074</td>\n",
              "    </tr>\n",
              "    <tr>\n",
              "      <th>15</th>\n",
              "      <td>Sweden</td>\n",
              "      <td>2539715</td>\n",
              "      <td>19358</td>\n",
              "      <td>0.762212</td>\n",
              "    </tr>\n",
              "    <tr>\n",
              "      <th>17</th>\n",
              "      <td>United Kingdom</td>\n",
              "      <td>23514832</td>\n",
              "      <td>185464</td>\n",
              "      <td>0.788711</td>\n",
              "    </tr>\n",
              "    <tr>\n",
              "      <th>8</th>\n",
              "      <td>Italy</td>\n",
              "      <td>21170600</td>\n",
              "      <td>172568</td>\n",
              "      <td>0.815130</td>\n",
              "    </tr>\n",
              "    <tr>\n",
              "      <th>14</th>\n",
              "      <td>Spain</td>\n",
              "      <td>13245996</td>\n",
              "      <td>110713</td>\n",
              "      <td>0.835822</td>\n",
              "    </tr>\n",
              "    <tr>\n",
              "      <th>12</th>\n",
              "      <td>Poland</td>\n",
              "      <td>6080398</td>\n",
              "      <td>116608</td>\n",
              "      <td>1.917769</td>\n",
              "    </tr>\n",
              "  </tbody>\n",
              "</table>\n",
              "</div>"
            ],
            "text/plain": [
              "           Country  confirmed  deaths  death rates\n",
              "2          Denmark    3272064    6715     0.205222\n",
              "11          Norway    1456493    3623     0.248748\n",
              "10     Netherlands    8355508   22593     0.270396\n",
              "16     Switzerland    3972622   13917     0.350323\n",
              "9       Luxembourg     283214    1113     0.392989\n",
              "0          Austria    4807205   20390     0.424155\n",
              "4          Finland    1171034    5012     0.427998\n",
              "3          Estonia     591377    2628     0.444387\n",
              "5           France   33051978  149038     0.450920\n",
              "13        Portugal    5353103   24645     0.460387\n",
              "6          Germany   31119199  144552     0.464511\n",
              "7          Ireland    1647605    7700     0.467345\n",
              "1          Belgium    4425201   32263     0.729074\n",
              "15          Sweden    2539715   19358     0.762212\n",
              "17  United Kingdom   23514832  185464     0.788711\n",
              "8            Italy   21170600  172568     0.815130\n",
              "14           Spain   13245996  110713     0.835822\n",
              "12          Poland    6080398  116608     1.917769"
            ]
          },
          "execution_count": 32,
          "metadata": {},
          "output_type": "execute_result"
        }
      ],
      "source": [
        "cleaned_data.sort_values(by=['death rates'])"
      ]
    },
    {
      "cell_type": "markdown",
      "metadata": {},
      "source": [
        "#### Graph with cleaned data"
      ]
    },
    {
      "cell_type": "markdown",
      "metadata": {},
      "source": [
        "Plotting data using Bar chart"
      ]
    },
    {
      "cell_type": "code",
      "execution_count": 33,
      "metadata": {},
      "outputs": [
        {
          "data": {
            "text/plain": [
              "<AxesSubplot:xlabel='Country'>"
            ]
          },
          "execution_count": 33,
          "metadata": {},
          "output_type": "execute_result"
        },
        {
          "data": {
            "image/png": "[encoded data removed]",
            "text/plain": [
              "<Figure size 432x288 with 1 Axes>"
            ]
          },
          "metadata": {
            "needs_background": "light"
          },
          "output_type": "display_data"
        }
      ],
      "source": [
        "cleaned_data.plot(x='Country', y='death rates', kind='bar')"
      ]
    },
    {
      "cell_type": "markdown",
      "metadata": {},
      "source": [
        "Plotting data using Bar chart horizontally"
      ]
    },
    {
      "cell_type": "code",
      "execution_count": 34,
      "metadata": {},
      "outputs": [
        {
          "data": {
            "text/plain": [
              "<AxesSubplot:ylabel='Country'>"
            ]
          },
          "execution_count": 34,
          "metadata": {},
          "output_type": "execute_result"
        },
        {
          "data": {
            "image/png": "[encoded data removed]",
            "text/plain": [
              "<Figure size 432x288 with 1 Axes>"
            ]
          },
          "metadata": {
            "needs_background": "light"
          },
          "output_type": "display_data"
        }
      ],
      "source": [
        "cleaned_data.plot(x='Country', y='death rates', kind='barh')"
      ]
    },
    {
      "cell_type": "markdown",
      "metadata": {},
      "source": [
        "Plotting data using Pie chart"
      ]
    },
    {
      "cell_type": "code",
      "execution_count": 35,
      "metadata": {},
      "outputs": [
        {
          "data": {
            "text/plain": [
              "<AxesSubplot:ylabel='death rates'>"
            ]
          },
          "execution_count": 35,
          "metadata": {},
          "output_type": "execute_result"
        },
        {
          "data": {
            "image/png": "[encoded data removed]",
            "text/plain": [
              "<Figure size 720x720 with 1 Axes>"
            ]
          },
          "metadata": {},
          "output_type": "display_data"
        }
      ],
      "source": [
        "cleaned_data.groupby(['Country']).sum().plot(y='death rates', kind='pie',figsize=(10,10))"
      ]
    },
    {
      "cell_type": "markdown",
      "metadata": {
        "id": "PaZ5nWbNE-OQ"
      },
      "source": [
        "## Conclusions, Assumptions, Overall Analysis\n",
        "\n",
        "Compared to other nordic countries, it has the highest rate of fatality from covid19.\n",
        "Compared to other developed european countries, it is only lower than 4 countries, UK, Italy, Spain, and Poland.\n",
        "Although UK which has stricter policy, still has higher rate of fatality.\n",
        "\n",
        "Is the Swedish government effective on lowering the risk of fatality from covid19 compared to stricter countries?\n",
        "not really, no..."
      ]
    }
  ],
  "metadata": {
    "colab": {
      "name": "h8dsft_P0W1_samuel_naiborhu.ipynb",
      "provenance": []
    },
    "gpuClass": "standard",
    "kernelspec": {
      "display_name": "Python 3.9.12 ('base')",
      "language": "python",
      "name": "python3"
    },
    "language_info": {
      "codemirror_mode": {
        "name": "ipython",
        "version": 3
      },
      "file_extension": ".py",
      "mimetype": "text/x-python",
      "name": "python",
      "nbconvert_exporter": "python",
      "pygments_lexer": "ipython3",
      "version": "3.9.12"
    },
    "orig_nbformat": 4,
    "vscode": {
      "interpreter": {
        "hash": "1b15b47e994a45b2c1c9c2019b348cb81bbb68780db9285c808c045d049d064a"
      }
    }
  },
  "nbformat": 4,
  "nbformat_minor": 0
}
